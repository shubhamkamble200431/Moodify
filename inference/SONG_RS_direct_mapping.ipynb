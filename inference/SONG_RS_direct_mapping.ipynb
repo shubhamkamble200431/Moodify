{
  "nbformat": 4,
  "nbformat_minor": 0,
  "metadata": {
    "colab": {
      "provenance": [],
      "gpuType": "T4"
    },
    "kernelspec": {
      "name": "python3",
      "display_name": "Python 3"
    },
    "language_info": {
      "name": "python"
    },
    "accelerator": "GPU"
  },
  "cells": [
    {
      "cell_type": "code",
      "execution_count": null,
      "metadata": {
        "id": "DDyslBZEOPeS"
      },
      "outputs": [],
      "source": [
        "import pandas as pd\n",
        "import numpy as np\n",
        "from tensorflow.keras.models import load_model\n",
        "from PIL import Image\n",
        "import tkinter as tk\n",
        "from tkinter import messagebox"
      ]
    },
    {
      "cell_type": "code",
      "source": [
        "# Load the pre-trained CNN model for facial expression prediction\n",
        "model = load_model('CNN.h5')\n",
        "\n",
        "# Load the songs dataset\n",
        "songs_df = pd.read_csv('songs1.csv')"
      ],
      "metadata": {
        "colab": {
          "base_uri": "https://localhost:8080/"
        },
        "id": "JmXoRCCVOcjp",
        "outputId": "84b0da32-3673-4166-d7a8-59dfe9fd01ed"
      },
      "execution_count": null,
      "outputs": [
        {
          "output_type": "stream",
          "name": "stderr",
          "text": [
            "/usr/local/lib/python3.10/dist-packages/keras/src/layers/convolutional/base_conv.py:107: UserWarning: Do not pass an `input_shape`/`input_dim` argument to a layer. When using Sequential models, prefer using an `Input(shape)` object as the first layer in the model instead.\n",
            "  super().__init__(activity_regularizer=activity_regularizer, **kwargs)\n",
            "WARNING:absl:Compiled the loaded model, but the compiled metrics have yet to be built. `model.compile_metrics` will be empty until you train or evaluate the model.\n",
            "WARNING:absl:Error in loading the saved optimizer state. As a result, your model is starting with a freshly initialized optimizer.\n"
          ]
        }
      ]
    },
    {
      "cell_type": "code",
      "source": [
        "# Get the input shape\n",
        "input_shape = model.input_shape\n",
        "\n",
        "print(\"Model input shape:\", input_shape)"
      ],
      "metadata": {
        "colab": {
          "base_uri": "https://localhost:8080/"
        },
        "id": "Tf_DTxIaQljz",
        "outputId": "10c02ca2-a057-47ec-f4ca-8d292bde2240"
      },
      "execution_count": null,
      "outputs": [
        {
          "output_type": "stream",
          "name": "stdout",
          "text": [
            "Model input shape: (None, 48, 48, 3)\n"
          ]
        }
      ]
    },
    {
      "cell_type": "code",
      "source": [
        "# Define a mapping from facial expressions to song moods\n",
        "expression_to_mood = {\n",
        "    'happy': 'happy',\n",
        "    'sad': 'sad',\n",
        "    'angry': 'energetic',\n",
        "    'surprise': 'energetic',\n",
        "    'disgust': 'energetic',\n",
        "    'neutral': 'calm',\n",
        "    'fear': 'calm'\n",
        "}"
      ],
      "metadata": {
        "id": "97KgdvKPOszY"
      },
      "execution_count": null,
      "outputs": []
    },
    {
      "cell_type": "code",
      "source": [
        "# Function to preprocess the input image for the model\n",
        "def preprocess_image(image_path):\n",
        "    img = Image.open(image_path).convert('RGB').resize((48, 48))\n",
        "    img_array = np.array(img) / 255.0  # Normalize the image\n",
        "    img_array = img_array.reshape(1,48, 48, 3)  # Reshape for model input\n",
        "    return img_array"
      ],
      "metadata": {
        "id": "GRnHAkTfOtgE"
      },
      "execution_count": null,
      "outputs": []
    },
    {
      "cell_type": "code",
      "source": [
        "# Function to predict mood from facial expression\n",
        "def predict_mood(image_path):\n",
        "    img_array = preprocess_image(image_path)\n",
        "    expression_index = np.argmax(model.predict(img_array), axis=1)[0]\n",
        "    expressions = ['sad', 'angry', 'surprise', 'happy', 'disgust', 'neutral', 'fear']\n",
        "    predicted_expression = expressions[expression_index]\n",
        "    return expression_to_mood.get(predicted_expression, 'calm')\n"
      ],
      "metadata": {
        "id": "Pn4j8SpPOxLe"
      },
      "execution_count": null,
      "outputs": []
    },
    {
      "cell_type": "code",
      "source": [
        "# Function to predict mood from facial expression\n",
        "def predict_mood(image_path):\n",
        "    img_array = preprocess_image(image_path)\n",
        "    expression_index = np.argmax(model.predict(img_array), axis=1)[0]\n",
        "    expressions = ['sad', 'angry', 'surprise', 'happy', 'disgust', 'neutral', 'fear']\n",
        "    predicted_expression = expressions[expression_index]\n",
        "    return expression_to_mood.get(predicted_expression, 'calm')\n"
      ],
      "metadata": {
        "id": "0pzTTnNqO3pu"
      },
      "execution_count": null,
      "outputs": []
    },
    {
      "cell_type": "code",
      "source": [
        "# Function to get song recommendations based on the predicted mood\n",
        "def recommend_songs(mood, num_recommendations=5):\n",
        "    recommendations = songs_df[songs_df['mood'] == mood]\n",
        "    return recommendations.sample(min(num_recommendations, len(recommendations)))\n"
      ],
      "metadata": {
        "id": "pZZK12OmRfbl"
      },
      "execution_count": null,
      "outputs": []
    },
    {
      "cell_type": "code",
      "source": [
        "# Function to display recommendations in the console (alternative to Tkinter)\n",
        "def show_recommendations(songs):\n",
        "    print(\"Recommended Songs:\")\n",
        "    for idx, row in songs.iterrows():\n",
        "        print(f\"{row['song_name']} by {row['artists']} ({row['release_year']})\")\n"
      ],
      "metadata": {
        "id": "ZKjX8CkGO96V"
      },
      "execution_count": null,
      "outputs": []
    },
    {
      "cell_type": "code",
      "source": [
        "print(songs_df.columns)\n"
      ],
      "metadata": {
        "colab": {
          "base_uri": "https://localhost:8080/"
        },
        "id": "XeHHkeaSSHcO",
        "outputId": "de26507a-a97d-4c89-cb2b-1d1749059770"
      },
      "execution_count": null,
      "outputs": [
        {
          "output_type": "stream",
          "name": "stdout",
          "text": [
            "Index(['song_id', 'song_name', 'album', 'artists', 'release_year', 'genre',\n",
            "       'mood'],\n",
            "      dtype='object')\n"
          ]
        }
      ]
    },
    {
      "cell_type": "code",
      "source": [
        "# Main function to get recommendations for an input image\n",
        "def main(image_path):\n",
        "    mood = predict_mood(image_path)\n",
        "    songs = recommend_songs(mood)\n",
        "    show_recommendations(songs)\n",
        "\n",
        "# Example usage\n",
        "image_path = '/content/shubham_pic.jpg'  # Path to the input face image\n",
        "main(image_path)"
      ],
      "metadata": {
        "colab": {
          "base_uri": "https://localhost:8080/"
        },
        "id": "Lf8967qPPEwz",
        "outputId": "1cd4b6a4-8a41-4894-aa92-de26f3714c49"
      },
      "execution_count": null,
      "outputs": [
        {
          "output_type": "stream",
          "name": "stdout",
          "text": [
            "\u001b[1m1/1\u001b[0m \u001b[32m━━━━━━━━━━━━━━━━━━━━\u001b[0m\u001b[37m\u001b[0m \u001b[1m1s\u001b[0m 604ms/step\n",
            "Recommended Songs:\n",
            "Badtameez Dil by nan (2013)\n",
            "Le Gayi by nan (1997)\n",
            "Illahi by nan (2013)\n",
            "Dilliwaali Girlfriend by nan (2013)\n",
            "Balam Pichkari by nan (2013)\n"
          ]
        }
      ]
    },
    {
      "cell_type": "code",
      "source": [],
      "metadata": {
        "id": "w1SCcvVnP4xY"
      },
      "execution_count": null,
      "outputs": []
    }
  ]
}