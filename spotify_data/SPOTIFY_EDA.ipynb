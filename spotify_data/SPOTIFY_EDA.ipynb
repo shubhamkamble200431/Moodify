{
  "nbformat": 4,
  "nbformat_minor": 0,
  "metadata": {
    "colab": {
      "provenance": []
    },
    "kernelspec": {
      "name": "python3",
      "display_name": "Python 3"
    },
    "language_info": {
      "name": "python"
    }
  },
  "cells": [
    {
      "cell_type": "code",
      "execution_count": null,
      "metadata": {
        "colab": {
          "base_uri": "https://localhost:8080/"
        },
        "id": "ShDr5o0uWDa2",
        "outputId": "26cc923d-f6f4-4fbb-850d-24b952fd6af7"
      },
      "outputs": [
        {
          "output_type": "stream",
          "name": "stdout",
          "text": [
            "Collecting spotipy\n",
            "  Downloading spotipy-2.24.0-py3-none-any.whl.metadata (4.9 kB)\n",
            "Collecting python-dotenv\n",
            "  Downloading python_dotenv-1.0.1-py3-none-any.whl.metadata (23 kB)\n",
            "Collecting redis>=3.5.3 (from spotipy)\n",
            "  Downloading redis-5.2.0-py3-none-any.whl.metadata (9.1 kB)\n",
            "Requirement already satisfied: requests>=2.25.0 in /usr/local/lib/python3.10/dist-packages (from spotipy) (2.32.3)\n",
            "Requirement already satisfied: urllib3>=1.26.0 in /usr/local/lib/python3.10/dist-packages (from spotipy) (2.2.3)\n",
            "Requirement already satisfied: async-timeout>=4.0.3 in /usr/local/lib/python3.10/dist-packages (from redis>=3.5.3->spotipy) (4.0.3)\n",
            "Requirement already satisfied: charset-normalizer<4,>=2 in /usr/local/lib/python3.10/dist-packages (from requests>=2.25.0->spotipy) (3.4.0)\n",
            "Requirement already satisfied: idna<4,>=2.5 in /usr/local/lib/python3.10/dist-packages (from requests>=2.25.0->spotipy) (3.10)\n",
            "Requirement already satisfied: certifi>=2017.4.17 in /usr/local/lib/python3.10/dist-packages (from requests>=2.25.0->spotipy) (2024.8.30)\n",
            "Downloading spotipy-2.24.0-py3-none-any.whl (30 kB)\n",
            "Downloading python_dotenv-1.0.1-py3-none-any.whl (19 kB)\n",
            "Downloading redis-5.2.0-py3-none-any.whl (261 kB)\n",
            "\u001b[2K   \u001b[90m━━━━━━━━━━━━━━━━━━━━━━━━━━━━━━━━━━━━━━━━\u001b[0m \u001b[32m261.4/261.4 kB\u001b[0m \u001b[31m9.7 MB/s\u001b[0m eta \u001b[36m0:00:00\u001b[0m\n",
            "\u001b[?25hInstalling collected packages: redis, python-dotenv, spotipy\n",
            "Successfully installed python-dotenv-1.0.1 redis-5.2.0 spotipy-2.24.0\n"
          ]
        }
      ],
      "source": [
        "!pip install spotipy python-dotenv"
      ]
    },
    {
      "cell_type": "code",
      "source": [
        "CLIENT_ID='75761f28a5a94634959f14a89d8c7563'\n",
        "CLIENT_SECRET='2e6458aea5fe43589181dcc9f098e0ab'"
      ],
      "metadata": {
        "id": "tBl01Xb2WH58"
      },
      "execution_count": null,
      "outputs": []
    },
    {
      "cell_type": "code",
      "source": [
        "import os\n",
        "import re\n",
        "import csv\n",
        "import time\n",
        "import spotipy\n",
        "from dotenv import load_dotenv\n",
        "from spotipy.oauth2 import SpotifyClientCredentials\n",
        "from spotipy.exceptions import SpotifyException\n",
        "\n",
        "# Load credentials from .env file\n",
        "load_dotenv()\n",
        "OUTPUT_FILE_NAME = \"Spotify.csv\"\n",
        "\n",
        "# List of target playlists\n",
        "PLAYLIST_LINKS = [\n",
        "    'https://open.spotify.com/playlist/5rjfioSxWkmzlsCdgNeePc?si=bf08767260404c0e'\n",
        "]\n",
        "\n",
        "# Authenticate with Spotify API\n",
        "client_credentials_manager = SpotifyClientCredentials(\n",
        "    client_id=CLIENT_ID,\n",
        "    client_secret=CLIENT_SECRET\n",
        ")\n",
        "sp = spotipy.Spotify(client_credentials_manager=client_credentials_manager)\n",
        "\n",
        "# Function to infer mood based on valence and energy values\n",
        "def infer_mood(valence, energy):\n",
        "    if valence >= 0.5 and energy >= 0.5:\n",
        "        return \"happy\"\n",
        "    elif valence < 0.5 and energy < 0.5:\n",
        "        return \"sad\"\n",
        "    elif valence < 0.5 and energy >= 0.5:\n",
        "        return \"energetic\"\n",
        "    else:\n",
        "        return \"calm\"\n",
        "\n",
        "# Function to handle rate limits\n",
        "def retry_with_sleep(api_call, *args, **kwargs):\n",
        "    while True:\n",
        "        try:\n",
        "            return api_call(*args, **kwargs)\n",
        "        except SpotifyException as e:\n",
        "            if e.http_status == 429:\n",
        "                wait_time = int(e.headers.get(\"Retry-After\", 5))\n",
        "                print(f\"Rate limit exceeded. Sleeping for {wait_time} seconds...\")\n",
        "                time.sleep(wait_time)\n",
        "            else:\n",
        "                print(f\"Error: {e}\")\n",
        "                return None\n",
        "\n",
        "# Create CSV file and write header\n",
        "with open(OUTPUT_FILE_NAME, \"w\", encoding=\"utf-8\") as file:\n",
        "    writer = csv.writer(file)\n",
        "    writer.writerow([\"track_id\", \"name\", \"artist\", \"album\", \"date\", \"duration_ms\", \"mood\"])\n",
        "\n",
        "    # Loop through each playlist link\n",
        "    for PLAYLIST_LINK in PLAYLIST_LINKS:\n",
        "        if match := re.match(r\"https://open.spotify.com/playlist/(.*)\\?\", PLAYLIST_LINK):\n",
        "            playlist_uri = match.groups()[0]\n",
        "        else:\n",
        "            print(f\"Invalid playlist link format: {PLAYLIST_LINK}\")\n",
        "            continue\n",
        "\n",
        "        # Fetch all tracks in the playlist\n",
        "        offset = 0\n",
        "        while True:\n",
        "            response = retry_with_sleep(sp.playlist_tracks, playlist_uri, offset=offset)\n",
        "            if not response or not response[\"items\"]:\n",
        "                break  # No more tracks to fetch\n",
        "\n",
        "            for track in response[\"items\"]:\n",
        "                track_info = track[\"track\"]\n",
        "                if not track_info:\n",
        "                    continue\n",
        "\n",
        "                track_id = track_info.get(\"id\", \"N/A\")\n",
        "                name = track_info.get(\"name\", \"Unknown\")\n",
        "                artists = \", \".join([artist[\"name\"] for artist in track_info.get(\"artists\", [])])\n",
        "                album = track_info[\"album\"][\"name\"] if track_info.get(\"album\") else \"Unknown Album\"\n",
        "                release_date = track_info[\"album\"].get(\"release_date\", \"Unknown Date\") if track_info.get(\"album\") else \"Unknown Date\"\n",
        "                date = release_date.split(\"-\")[0]  # Extract only the year\n",
        "                duration_ms = track_info.get(\"duration_ms\", 0)\n",
        "\n",
        "                # Get mood using audio features with retry mechanism\n",
        "                mood = \"unknown\"\n",
        "                audio_features = retry_with_sleep(sp.audio_features, track_id)\n",
        "                if audio_features and audio_features[0]:\n",
        "                    valence = audio_features[0][\"valence\"]\n",
        "                    energy = audio_features[0][\"energy\"]\n",
        "                    mood = infer_mood(valence, energy)\n",
        "\n",
        "                # Write the row to the CSV\n",
        "                writer.writerow([track_id, name, artists, album, date, duration_ms, mood])\n",
        "\n",
        "            # Increment offset to fetch the next batch of tracks\n",
        "            offset += len(response[\"items\"])\n",
        "\n",
        "print(f\"Data has been saved to {OUTPUT_FILE_NAME}.\")\n"
      ],
      "metadata": {
        "id": "c0y1HclFMg__"
      },
      "execution_count": null,
      "outputs": []
    },
    {
      "cell_type": "code",
      "source": [
        "CLIENT_ID='75761f28a5a94634959f14a89d8c7563'\n",
        "CLIENT_SECRET='2e6458aea5fe43589181dcc9f098e0ab'"
      ],
      "metadata": {
        "id": "f69EgvNB0MR9"
      },
      "execution_count": null,
      "outputs": []
    },
    {
      "cell_type": "code",
      "source": [
        "load_dotenv()\n",
        "print(\"Client ID:\", os.getenv(\"SPOTIPY_CLIENT_ID\"))  # Should print your actual Client ID\n"
      ],
      "metadata": {
        "colab": {
          "base_uri": "https://localhost:8080/"
        },
        "id": "opbbaNGS0HdV",
        "outputId": "44f52d2b-5a7c-48f8-a23d-716c44d7099a"
      },
      "execution_count": null,
      "outputs": [
        {
          "output_type": "stream",
          "name": "stdout",
          "text": [
            "Client ID: None\n"
          ]
        }
      ]
    },
    {
      "cell_type": "code",
      "source": [
        "import os\n",
        "import re\n",
        "import csv\n",
        "import time\n",
        "import spotipy\n",
        "from dotenv import load_dotenv\n",
        "from spotipy.oauth2 import SpotifyClientCredentials\n",
        "from spotipy.exceptions import SpotifyException\n",
        "\n",
        "# Load credentials from .env file\n",
        "load_dotenv()\n",
        "OUTPUT_FILE_NAME = \"Spotify_updated_3.csv\"\n",
        "\n",
        "# List of target playlists\n",
        "PLAYLIST_LINKS = [\n",
        "    'https://open.spotify.com/playlist/5rjfioSxWkmzlsCdgNeePc?si=bf08767260404c0e'\n",
        "]\n",
        "\n",
        "# Authenticate with Spotify API\n",
        "client_credentials_manager = SpotifyClientCredentials(\n",
        "    client_id=CLIENT_ID,\n",
        "    client_secret=CLIENT_SECRET\n",
        ")\n",
        "sp = spotipy.Spotify(client_credentials_manager=client_credentials_manager)\n",
        "\n",
        "# Function to infer mood based on valence and energy values\n",
        "def infer_mood(valence, energy):\n",
        "    if valence >= 0.5 and energy >= 0.5:\n",
        "        return \"happy\"\n",
        "    elif valence < 0.5 and energy < 0.5:\n",
        "        return \"sad\"\n",
        "    elif valence < 0.5 and energy >= 0.5:\n",
        "        return \"energetic\"\n",
        "    else:\n",
        "        return \"calm\"\n",
        "\n",
        "# Function to handle rate limits with max retry limit of 3\n",
        "def retry_with_sleep(api_call, *args, **kwargs):\n",
        "    attempts = 0\n",
        "    while attempts < 3:\n",
        "        try:\n",
        "            return api_call(*args, **kwargs)\n",
        "        except SpotifyException as e:\n",
        "            if e.http_status == 429:\n",
        "                wait_time = int(e.headers.get(\"Retry-After\", 5))\n",
        "                print(f\"Rate limit exceeded. Sleeping for {wait_time} seconds... (Attempt {attempts + 1}/3)\")\n",
        "                time.sleep(wait_time)\n",
        "                attempts += 1\n",
        "            else:\n",
        "                print(f\"Error: {e}\")\n",
        "                return None\n",
        "    print(\"Max retry attempts reached.\")\n",
        "    return None\n",
        "\n",
        "# Create CSV file and write header\n",
        "with open(OUTPUT_FILE_NAME, \"w\", encoding=\"utf-8\") as file:\n",
        "    writer = csv.writer(file)\n",
        "    writer.writerow([\"track_id\", \"track_name\", \"artists\", \"album\", \"release_year\", \"duration_ms\", \"mood\"])\n",
        "\n",
        "    # Loop through each playlist link\n",
        "    for PLAYLIST_LINK in PLAYLIST_LINKS:\n",
        "        if match := re.match(r\"https://open.spotify.com/playlist/(.*)\\?\", PLAYLIST_LINK):\n",
        "            playlist_uri = match.groups()[0]\n",
        "        else:\n",
        "            print(f\"Invalid playlist link format: {PLAYLIST_LINK}\")\n",
        "            continue\n",
        "\n",
        "        # Fetch tracks starting from the 1902nd track in the playlist\n",
        "        offset = 3883\n",
        "        while True:\n",
        "            response = retry_with_sleep(sp.playlist_tracks, playlist_uri, offset=offset)\n",
        "            if not response or not response[\"items\"]:\n",
        "                break  # No more tracks to fetch\n",
        "\n",
        "            for track in response[\"items\"]:\n",
        "                track_info = track[\"track\"]\n",
        "                if not track_info:\n",
        "                    continue\n",
        "\n",
        "                track_id = track_info.get(\"id\", \"N/A\")\n",
        "                name = track_info.get(\"name\", \"Unknown\")\n",
        "                artists = \", \".join([artist[\"name\"] for artist in track_info.get(\"artists\", [])])\n",
        "                album = track_info[\"album\"][\"name\"] if track_info.get(\"album\") else \"Unknown Album\"\n",
        "                release_date = track_info[\"album\"].get(\"release_date\", \"Unknown Date\") if track_info.get(\"album\") else \"Unknown Date\"\n",
        "                date = release_date.split(\"-\")[0]  # Extract only the year\n",
        "                duration_ms = track_info.get(\"duration_ms\", 0)\n",
        "\n",
        "                # Get mood using audio features with retry mechanism\n",
        "                mood = \"unknown\"\n",
        "                audio_features = retry_with_sleep(sp.audio_features, track_id)\n",
        "                if audio_features and audio_features[0]:\n",
        "                    valence = audio_features[0][\"valence\"]\n",
        "                    energy = audio_features[0][\"energy\"]\n",
        "                    mood = infer_mood(valence, energy)\n",
        "\n",
        "                # Write the row to the CSV\n",
        "                writer.writerow([track_id, name, artists, album, date, duration_ms, mood])\n",
        "\n",
        "            # Increment offset to fetch the next batch of tracks\n",
        "            offset += len(response[\"items\"])\n",
        "\n",
        "print(f\"Data has been saved to {OUTPUT_FILE_NAME}.\")\n"
      ],
      "metadata": {
        "id": "ZpJS1uDwNEx5"
      },
      "execution_count": null,
      "outputs": []
    },
    {
      "cell_type": "code",
      "source": [
        "import pandas as pd\n",
        "\n",
        "# Load the Spotify data\n",
        "df = pd.read_csv(\"Spotify_changed.csv\")\n",
        "\n",
        "# Step 1: Remove duplicate songs by unique track_id\n",
        "df = df.drop_duplicates(subset=\"track_id\")\n",
        "\n",
        "# Step 2: Filter out rows where 'release_year' is \"0\" or 'mood' is \"unknown\"\n",
        "df_cleaned = df[(df['release_year'] != \"0\") & (df['mood'] != \"unknown\")]\n",
        "\n",
        "# Step 3: Remove rows where any column has \"0\", except for columns 'Harshal', 'Shubham', and 'Jiya'\n",
        "cols_to_check = df_cleaned.columns.difference(['Harshal', 'Shubham', 'Jiya'])\n",
        "df_cleaned = df_cleaned[~df_cleaned[cols_to_check].isin([\"0\"]).any(axis=1)]\n",
        "\n",
        "# Step 4: Remove rows with any blank or missing data\n",
        "df_cleaned = df_cleaned.dropna()  # Drops rows with any missing values\n",
        "\n",
        "# Step 5: Save the cleaned data to a new CSV file\n",
        "df_cleaned.to_csv(\"Spotify_updated_2.csv\", index=False)\n",
        "\n",
        "print(\"Duplicates removed, data cleaned, and blank cells handled. Saved to 'Spotify_updated_2.csv'\")\n"
      ],
      "metadata": {
        "colab": {
          "base_uri": "https://localhost:8080/"
        },
        "id": "u1PvoLXNzMl8",
        "outputId": "72b22526-8f29-4029-cd32-6bb8ba980677"
      },
      "execution_count": null,
      "outputs": [
        {
          "output_type": "stream",
          "name": "stdout",
          "text": [
            "Duplicates removed, data cleaned, and blank cells handled. Saved to 'Spotify_updated_2.csv'\n"
          ]
        }
      ]
    },
    {
      "cell_type": "code",
      "source": [
        "import pandas as pd\n",
        "import matplotlib.pyplot as plt\n",
        "\n",
        "# Load the cleaned Spotify data\n",
        "df = pd.read_csv(\"Spotify_changed.csv\")\n",
        "\n",
        "# Step 1: Mood-wise counts\n",
        "mood_counts = df['mood'].value_counts()\n",
        "\n",
        "# Plot mood-wise counts\n",
        "plt.figure(figsize=(10, 6))\n",
        "mood_counts.plot(kind='bar', color='skyblue')\n",
        "plt.title(\"Mood-wise Song Counts\")\n",
        "plt.xlabel(\"Mood\")\n",
        "plt.ylabel(\"Count\")\n",
        "plt.xticks(rotation=45)\n",
        "plt.show()\n",
        "\n",
        "# Display mood counts with print\n",
        "print(\"Mood-wise counts:\")\n",
        "print(mood_counts)\n",
        "\n",
        "# Step 2: Year-wise counts\n",
        "year_counts = df['release_year'].value_counts().sort_index()\n",
        "\n",
        "# Plot year-wise counts\n",
        "plt.figure(figsize=(12, 6))\n",
        "year_counts.plot(kind='bar', color='salmon')\n",
        "plt.title(\"Year-wise Song Counts\")\n",
        "plt.xlabel(\"Year\")\n",
        "plt.ylabel(\"Count\")\n",
        "plt.xticks(rotation=45)\n",
        "plt.show()\n",
        "\n",
        "# Display year counts with print\n",
        "print(\"\\nYear-wise counts:\")\n",
        "print(year_counts)\n"
      ],
      "metadata": {
        "colab": {
          "base_uri": "https://localhost:8080/",
          "height": 1000
        },
        "id": "ocSz92nh13HQ",
        "outputId": "13477c17-fb05-4855-a319-c3a85396fe8a"
      },
      "execution_count": null,
      "outputs": [
        {
          "output_type": "display_data",
          "data": {
            "text/plain": [
              "<Figure size 1000x600 with 1 Axes>"
            ],
            "image/png": "[encoded data removed]"
          },
          "metadata": {}
        },
        {
          "output_type": "stream",
          "name": "stdout",
          "text": [
            "Mood-wise counts:\n",
            "mood\n",
            "happy        1282\n",
            "sad          1186\n",
            "energetic    1098\n",
            "calm          317\n",
            "Name: count, dtype: int64\n"
          ]
        },
        {
          "output_type": "display_data",
          "data": {
            "text/plain": [
              "<Figure size 1200x600 with 1 Axes>"
            ],
            "image/png": "[encoded data removed]"
          },
          "metadata": {}
        },
        {
          "output_type": "stream",
          "name": "stdout",
          "text": [
            "\n",
            "Year-wise counts:\n",
            "release_year\n",
            "0        22\n",
            "1958      1\n",
            "1959      2\n",
            "1961      3\n",
            "1962      3\n",
            "       ... \n",
            "2020    239\n",
            "2021    290\n",
            "2022    585\n",
            "2023    674\n",
            "2024    439\n",
            "Name: count, Length: 66, dtype: int64\n"
          ]
        }
      ]
    },
    {
      "cell_type": "code",
      "source": [
        "import pandas as pd\n",
        "\n",
        "# Load the two CSV files\n",
        "df1 = pd.read_csv(\"Spotify_updated.csv\")\n",
        "df2 = pd.read_csv(\"Spotify_updated_2.csv\")\n",
        "\n",
        "# Concatenate the DataFrames\n",
        "df_combined = pd.concat([df1, df2], ignore_index=True)\n",
        "\n",
        "# Optionally, remove duplicate rows if needed (e.g., based on 'track_id')\n",
        "df_combined = df_combined.drop_duplicates(subset=\"track_id\")\n",
        "\n",
        "# Save the concatenated data to a new CSV file\n",
        "df_combined.to_csv(\"Spotify_changed.csv\", index=False)\n",
        "\n",
        "print(\"CSV files concatenated and saved to 'Spotify_combined.csv'\")\n"
      ],
      "metadata": {
        "id": "60Ps5GibGN-M",
        "colab": {
          "base_uri": "https://localhost:8080/"
        },
        "outputId": "aec84bf0-be70-4a2a-881d-ee063f264a17"
      },
      "execution_count": null,
      "outputs": [
        {
          "output_type": "stream",
          "name": "stdout",
          "text": [
            "CSV files concatenated and saved to 'Spotify_combined.csv'\n"
          ]
        }
      ]
    },
    {
      "cell_type": "code",
      "source": [],
      "metadata": {
        "id": "8q-ueb1Cr-gt"
      },
      "execution_count": null,
      "outputs": []
    }
  ]
}